{
 "cells": [
  {
   "cell_type": "markdown",
   "id": "f714ef24-8e8f-43c6-972a-23457ceb2247",
   "metadata": {},
   "source": [
    "# Data Science Tools and Ecosystem"
   ]
  },
  {
   "cell_type": "markdown",
   "id": "9557ab37-ce0e-438d-8ad3-cdb8461f3838",
   "metadata": {},
   "source": [
    "In this notebook, Data Science Tools and Ecosystem are summarized."
   ]
  },
  {
   "cell_type": "markdown",
   "id": "676bb35c-5a3d-4740-ac07-af1f05d2149e",
   "metadata": {},
   "source": [
    "<b>Objectives:<br>\n",
    "List popular languages for Data Science\n",
    "<ul>\n",
    "<li>Python</li>\n",
    "<li>R</li>\n",
    "<li>SQL</li>\n",
    "<li>Scala</li>\n",
    "<li>java</li>\n",
    "<li>julia</li>\n",
    "</ul>"
   ]
  },
  {
   "cell_type": "markdown",
   "id": "36c78fcc-db36-4e57-89f4-db410c87e10d",
   "metadata": {},
   "source": [
    "Some of the popular languages that Data Scientists use are:\n",
    "<ol>\n",
    "<li>Python</li>\n",
    "<li>R</li>\n",
    "<li>SQL</li>\n",
    "</ol>"
   ]
  },
  {
   "cell_type": "markdown",
   "id": "b9d8e161-4585-4e2c-be16-8c11ddadc013",
   "metadata": {},
   "source": [
    "Some of the commonly used libraries used by Data Scientists include:\n",
    "<ol>\n",
    "    <li>matpoltlib</li>\n",
    "    <li>pandas</li>\n",
    "    <li>numpy</li>\n",
    "    <li>scipy</li>\n",
    "</ol>"
   ]
  },
  {
   "cell_type": "markdown",
   "id": "2d242644-2e2b-430b-bd18-df2522bf6209",
   "metadata": {},
   "source": [
    "|Data Science Tools|\n",
    "|:-|\n",
    "|MySQL|\n",
    "|Apache AirFlow|\n",
    "|Hue|"
   ]
  },
  {
   "cell_type": "markdown",
   "id": "6cc8fe5a-8603-49d6-b142-875488de2cfe",
   "metadata": {},
   "source": [
    "<h3>Below are a few examples of evaluating arithmetic expressions in Python</h3>"
   ]
  },
  {
   "cell_type": "code",
   "execution_count": 15,
   "id": "1f9d75be-ecf7-49b1-a9d8-9e47dc5270ad",
   "metadata": {},
   "outputs": [
    {
     "data": {
      "text/plain": [
       "17"
      ]
     },
     "execution_count": 15,
     "metadata": {},
     "output_type": "execute_result"
    }
   ],
   "source": [
    "# This a simple arithmetic expression to mutiply then add integers\n",
    "(3*4)+5"
   ]
  },
  {
   "cell_type": "code",
   "execution_count": 16,
   "id": "6df1f29e-01fc-4eff-8ab1-9c781cc1b1e6",
   "metadata": {},
   "outputs": [
    {
     "data": {
      "text/plain": [
       "3.3333333333333335"
      ]
     },
     "execution_count": 16,
     "metadata": {},
     "output_type": "execute_result"
    }
   ],
   "source": [
    "# This will convert 200 minutes to hours by diving by 60\n",
    "200/60"
   ]
  },
  {
   "cell_type": "markdown",
   "id": "ea620c21-f399-45ac-8698-698a006d6a99",
   "metadata": {},
   "source": [
    "<h2>Author</h2>"
   ]
  },
  {
   "cell_type": "markdown",
   "id": "f0aba66b-0cb8-4417-8e02-a617a202e06f",
   "metadata": {},
   "source": [
    "Thirugnanam"
   ]
  },
  {
   "cell_type": "code",
   "execution_count": null,
   "id": "ea19a3b2-1afb-4ea4-b88f-fbff8aae9131",
   "metadata": {},
   "outputs": [],
   "source": []
  }
 ],
 "metadata": {
  "kernelspec": {
   "display_name": "Python 3 (ipykernel)",
   "language": "python",
   "name": "python3"
  },
  "language_info": {
   "codemirror_mode": {
    "name": "ipython",
    "version": 3
   },
   "file_extension": ".py",
   "mimetype": "text/x-python",
   "name": "python",
   "nbconvert_exporter": "python",
   "pygments_lexer": "ipython3",
   "version": "3.11.7"
  }
 },
 "nbformat": 4,
 "nbformat_minor": 5
}
